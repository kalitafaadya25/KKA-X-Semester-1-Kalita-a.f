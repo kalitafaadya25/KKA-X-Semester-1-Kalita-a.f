{
  "nbformat": 4,
  "nbformat_minor": 0,
  "metadata": {
    "colab": {
      "provenance": [],
      "authorship_tag": "ABX9TyO2MPxBTz0FnPAfGnYj7hGI",
      "include_colab_link": true
    },
    "kernelspec": {
      "name": "python3",
      "display_name": "Python 3"
    },
    "language_info": {
      "name": "python"
    }
  },
  "cells": [
    {
      "cell_type": "markdown",
      "metadata": {
        "id": "view-in-github",
        "colab_type": "text"
      },
      "source": [
        "<a href=\"https://colab.research.google.com/github/kalitafaadya25/KKA-X-Semester-1-Kalita-a.f/blob/main/1_Fungsi_print_kalita_a_f_x_2.ipynb\" target=\"_parent\"><img src=\"https://colab.research.google.com/assets/colab-badge.svg\" alt=\"Open In Colab\"/></a>"
      ]
    },
    {
      "cell_type": "markdown",
      "source": [
        "Nama:kalita almanda faadya\n",
        "\n",
        "kelas:x.2\n",
        "\n",
        "nomor absen:16"
      ],
      "metadata": {
        "id": "hNije0SLtsM9"
      }
    },
    {
      "cell_type": "markdown",
      "source": [
        "#menampilkan teks bebas"
      ],
      "metadata": {
        "id": "4XecPkOJunur"
      }
    },
    {
      "cell_type": "code",
      "execution_count": null,
      "metadata": {
        "colab": {
          "base_uri": "https://localhost:8080/"
        },
        "id": "hKbHRo4HtWpf",
        "outputId": "d6060ba6-84a3-42ae-f4fb-e9e59b8827c1"
      },
      "outputs": [
        {
          "output_type": "stream",
          "name": "stdout",
          "text": [
            "halo world\n"
          ]
        }
      ],
      "source": [
        "print(\"halo world\")"
      ]
    },
    {
      "cell_type": "code",
      "source": [
        "nama = \"kalita almanda faadya\"\n",
        "print(nama)"
      ],
      "metadata": {
        "colab": {
          "base_uri": "https://localhost:8080/"
        },
        "id": "4lgd8qoqwpwn",
        "outputId": "e44e4028-abbd-4c69-90da-1933c15df03b"
      },
      "execution_count": null,
      "outputs": [
        {
          "output_type": "stream",
          "name": "stdout",
          "text": [
            "kalita almanda faadya\n"
          ]
        }
      ]
    },
    {
      "cell_type": "markdown",
      "source": [
        "#menampilkan nilai variabel"
      ],
      "metadata": {
        "id": "NI8nHdXHw2mO"
      }
    },
    {
      "cell_type": "code",
      "source": [
        "berat_badan=42\n",
        "print(berat_badan)"
      ],
      "metadata": {
        "colab": {
          "base_uri": "https://localhost:8080/"
        },
        "id": "tepkWvFcxJce",
        "outputId": "79504990-9c63-422d-e1a9-ebfbcad96367"
      },
      "execution_count": null,
      "outputs": [
        {
          "output_type": "stream",
          "name": "stdout",
          "text": [
            "42\n"
          ]
        }
      ]
    },
    {
      "cell_type": "code",
      "source": [
        "nama=\"kalita almanda faadya\"\n",
        "print(nama)"
      ],
      "metadata": {
        "colab": {
          "base_uri": "https://localhost:8080/"
        },
        "id": "gOdlMe8Ay3Z7",
        "outputId": "0e6a9157-6356-4dc5-eb93-e2abea513fb6"
      },
      "execution_count": null,
      "outputs": [
        {
          "output_type": "stream",
          "name": "stdout",
          "text": [
            "kalita almanda faadya\n"
          ]
        }
      ]
    },
    {
      "cell_type": "code",
      "source": [
        "usia=\"15\"\n",
        "print(usia)"
      ],
      "metadata": {
        "colab": {
          "base_uri": "https://localhost:8080/"
        },
        "id": "T6Mn8w17yNYS",
        "outputId": "65ecba01-c140-4e85-e2de-b981d988f1dd"
      },
      "execution_count": null,
      "outputs": [
        {
          "output_type": "stream",
          "name": "stdout",
          "text": [
            "15\n"
          ]
        }
      ]
    },
    {
      "cell_type": "markdown",
      "source": [
        "#menampilkan teks bebas dan nilai variabel"
      ],
      "metadata": {
        "id": "HIHzjeWAyrGc"
      }
    },
    {
      "cell_type": "code",
      "source": [
        "print(\"berat badan saya adalah\",berat_badan,\"kg\")"
      ],
      "metadata": {
        "colab": {
          "base_uri": "https://localhost:8080/"
        },
        "id": "dj5Vb2ITzDp5",
        "outputId": "a03b6152-be4c-48c8-bdc4-07edb86fabb4"
      },
      "execution_count": null,
      "outputs": [
        {
          "output_type": "stream",
          "name": "stdout",
          "text": [
            "berat badan saya adalah 42 kg\n"
          ]
        }
      ]
    },
    {
      "cell_type": "code",
      "source": [
        "print(\"perkenalkan nama saya,\",nama,\".\")"
      ],
      "metadata": {
        "colab": {
          "base_uri": "https://localhost:8080/"
        },
        "id": "OM4DoznWznk8",
        "outputId": "12d9c498-b156-4c3a-f894-d6cf0e4eba91"
      },
      "execution_count": null,
      "outputs": [
        {
          "output_type": "stream",
          "name": "stdout",
          "text": [
            "perkenalkan nama saya, kalita almanda faadya .\n"
          ]
        }
      ]
    },
    {
      "cell_type": "code",
      "source": [
        "print(\"perkenalkan nama saya, \" + nama+ \".\")"
      ],
      "metadata": {
        "id": "NHEnkKUu0oTW",
        "colab": {
          "base_uri": "https://localhost:8080/"
        },
        "outputId": "dbf4b60b-9aec-4af6-a0d2-7da0f3b9809c"
      },
      "execution_count": null,
      "outputs": [
        {
          "output_type": "stream",
          "name": "stdout",
          "text": [
            "perkenalkan nama saya, kalita almanda faadya.\n"
          ]
        }
      ]
    },
    {
      "cell_type": "code",
      "source": [
        "print(f\"perkenalkan nama saya {Nama}.\")"
      ],
      "metadata": {
        "colab": {
          "base_uri": "https://localhost:8080/"
        },
        "id": "qH_zfgBx27y4",
        "outputId": "4860ad50-b233-4f79-829c-1a19c09ea1cf"
      },
      "execution_count": null,
      "outputs": [
        {
          "output_type": "stream",
          "name": "stdout",
          "text": [
            "perkenalkan nama saya kalita almanda faadya.\n"
          ]
        }
      ]
    },
    {
      "cell_type": "code",
      "source": [
        "berat_badan = 42\n",
        "print(\"Berat badan saya adalah \" + str(berat_badan) + \" Kg.\")"
      ],
      "metadata": {
        "id": "5o3HxPgi1yVj",
        "colab": {
          "base_uri": "https://localhost:8080/"
        },
        "outputId": "061c45a4-92a7-4c1f-cdfb-13c09168cf06"
      },
      "execution_count": null,
      "outputs": [
        {
          "output_type": "stream",
          "name": "stdout",
          "text": [
            "Berat badan saya adalah 42 Kg.\n"
          ]
        }
      ]
    },
    {
      "cell_type": "code",
      "source": [
        "print(f\"berat badan saya adalah {berat_badan}Kg.\")"
      ],
      "metadata": {
        "colab": {
          "base_uri": "https://localhost:8080/"
        },
        "id": "v5lYCRa23P8L",
        "outputId": "e678ede6-a31d-4565-d66b-c646060589bf"
      },
      "execution_count": null,
      "outputs": [
        {
          "output_type": "stream",
          "name": "stdout",
          "text": [
            "berat badan saya adalah 42Kg.\n"
          ]
        }
      ]
    },
    {
      "cell_type": "markdown",
      "source": [
        "\n",
        "#Escape Character\n"
      ],
      "metadata": {
        "id": "N2ED0Ocu2LjC"
      }
    },
    {
      "cell_type": "code",
      "source": [
        "print(\"Nama:kalita almanda faadya\")"
      ],
      "metadata": {
        "colab": {
          "base_uri": "https://localhost:8080/"
        },
        "id": "oywiCaOy3N6y",
        "outputId": "556d1196-9c9c-4ca9-9d7b-f83561307fa6"
      },
      "execution_count": null,
      "outputs": [
        {
          "output_type": "stream",
          "name": "stdout",
          "text": [
            "Nama:kalita almanda faadya\n"
          ]
        }
      ]
    },
    {
      "cell_type": "code",
      "source": [
        "print(\"Nama:kalita almanda\\nKelas:x2\\nNo.Absen:16\")"
      ],
      "metadata": {
        "colab": {
          "base_uri": "https://localhost:8080/"
        },
        "id": "9DquANOI4E1-",
        "outputId": "bcf67be2-92f8-4e3b-dacf-6b4427f92b2d"
      },
      "execution_count": null,
      "outputs": [
        {
          "output_type": "stream",
          "name": "stdout",
          "text": [
            "Nama:kalita almanda\n",
            "Kelas:x2\n",
            "No.Absen:16\n"
          ]
        }
      ]
    },
    {
      "cell_type": "code",
      "source": [
        "print(\"Nama:kalita almanda faadya\")\n",
        "print(\"Kelas:x2\")\n",
        "print(\"No.Absen:16\")"
      ],
      "metadata": {
        "colab": {
          "base_uri": "https://localhost:8080/"
        },
        "id": "3nSudno_5rUY",
        "outputId": "b14a1cfd-ae2b-4fc7-8aab-30793a86657b"
      },
      "execution_count": null,
      "outputs": [
        {
          "output_type": "stream",
          "name": "stdout",
          "text": [
            "Nama:kalita almanda faadya\n",
            "Kelas:x2\n",
            "No.Absen:16\n"
          ]
        }
      ]
    },
    {
      "cell_type": "code",
      "source": [
        "print(\"\"\"Nama:kalita almanda faadya\n",
        "Kelas:x2\n",
        "No.Absen:16\"\"\")"
      ],
      "metadata": {
        "colab": {
          "base_uri": "https://localhost:8080/"
        },
        "id": "IVpGgJJ26k6w",
        "outputId": "6ad8b27c-379a-4443-e7c0-213d0a1311c4"
      },
      "execution_count": null,
      "outputs": [
        {
          "output_type": "stream",
          "name": "stdout",
          "text": [
            "Nama:kalita almanda faadya\n",
            "Kelas:x2\n",
            "No.Absen:16\n"
          ]
        }
      ]
    },
    {
      "cell_type": "code",
      "source": [
        "print(\"Nama\\t\\t:kalita almanda faadya\\nKelas\\t\\t:x2\\nNo.Absen\\t:16\")"
      ],
      "metadata": {
        "colab": {
          "base_uri": "https://localhost:8080/"
        },
        "id": "iy4cGvIZ69g2",
        "outputId": "f5eaa0da-1d98-4221-f518-fdb545694813"
      },
      "execution_count": null,
      "outputs": [
        {
          "output_type": "stream",
          "name": "stdout",
          "text": [
            "Nama\t\t:kalita almanda faadya\n",
            "Kelas\t\t:x2\n",
            "No.Absen\t:16\n"
          ]
        }
      ]
    },
    {
      "cell_type": "code",
      "source": [
        "print(\"Jadwal Pelajaran Kelas X.2 - MAN Demak 2025/2026\")\n",
        "print(\"================================================\\n\")\n",
        "\n",
        "print(\"Jam\\tSenin\\t\\tSelasa\\t\\tRabu\\t\\tKamis\\t\\tJumat\\t\\tSabtu\")\n",
        "\n",
        "print(\"Jam 1\\tMat Wajib\\tB. Arab\\t\\tB. Jawa\\t\\tFisika\\t\\tMat Wajib\\tBiologi\")\n",
        "print(\"Jam 2\\tMat Wajib\\tB. Arab\\t\\tB. Jawa\\t\\tFisika\\t\\tMat Wajib\\tBiologi\")\n",
        "print(\"Jam 3\\tB. Indo\\t\\tPJOK\\t\\tFikih\\t\\tSejarah\\t\\tPend. Pancasila\\tEkonomi\")\n",
        "print(\"Jam 4\\tB. Indo\\t\\tPJOK\\t\\tFikih\\t\\tSejarah\\t\\tPend. Pancasila\\tEkonomi\")\n",
        "print(\"Jam 5\\tB. Arab\\t\\tB. Indo\\t\\tKimia\\t\\tBiologi\\t\\tSeni Musik\\tSKI\")\n",
        "print(\"Jam 6\\tB. Arab\\t\\tB. Indo\\t\\tKimia\\t\\tGeografi\\t-\\t\\tSKI\")\n",
        "print(\"Jam 7\\tB. Ing\\t\\tAkidah A.\\tSeni Musik\\tGeografi\\t-\\t\\tQur\\'an Hadist\")\n",
        "print(\"Jam 8\\tB. Ing\\t\\tAkidah A.\\tPKWU\\t\\tSosiologi\\t-\\t\\tQur\\'an Hadist\")\n",
        "print(\"Jam 9\\tB. Ing\\t\\tBK\\t\\tPKWU\\t\\tSosiologi\\t-\\t\\tKKA\")\n",
        "print(\"Jam 10\\t-\\t\\t-\\t\\t-\\t\\t-\\t\\t-\\t\\tKKA\")"
      ],
      "metadata": {
        "id": "SFpOS0d28Clk",
        "colab": {
          "base_uri": "https://localhost:8080/"
        },
        "outputId": "e7f0796f-e0f8-4bca-8344-d292461d6435"
      },
      "execution_count": null,
      "outputs": [
        {
          "output_type": "stream",
          "name": "stdout",
          "text": [
            "Jadwal Pelajaran Kelas X.2 - MAN Demak 2025/2026\n",
            "================================================\n",
            "\n",
            "Jam\tSenin\t\tSelasa\t\tRabu\t\tKamis\t\tJumat\t\tSabtu\n",
            "Jam 1\tMat Wajib\tB. Arab\t\tB. Jawa\t\tFisika\t\tMat Wajib\tBiologi\n",
            "Jam 2\tMat Wajib\tB. Arab\t\tB. Jawa\t\tFisika\t\tMat Wajib\tBiologi\n",
            "Jam 3\tB. Indo\t\tPJOK\t\tFikih\t\tSejarah\t\tPend. Pancasila\tEkonomi\n",
            "Jam 4\tB. Indo\t\tPJOK\t\tFikih\t\tSejarah\t\tPend. Pancasila\tEkonomi\n",
            "Jam 5\tB. Arab\t\tB. Indo\t\tKimia\t\tBiologi\t\tSeni Musik\tSKI\n",
            "Jam 6\tB. Arab\t\tB. Indo\t\tKimia\t\tGeografi\t-\t\tSKI\n",
            "Jam 7\tB. Ing\t\tAkidah A.\tSeni Musik\tGeografi\t-\t\tQur'an Hadist\n",
            "Jam 8\tB. Ing\t\tAkidah A.\tPKWU\t\tSosiologi\t-\t\tQur'an Hadist\n",
            "Jam 9\tB. Ing\t\tBK\t\tPKWU\t\tSosiologi\t-\t\tKKA\n",
            "Jam 10\t-\t\t-\t\t-\t\t-\t\t-\t\tKKA\n"
          ]
        }
      ]
    },
    {
      "cell_type": "markdown",
      "source": [
        "#parameter fungsi print"
      ],
      "metadata": {
        "id": "Eqvhbosj1oOo"
      }
    },
    {
      "cell_type": "markdown",
      "source": [],
      "metadata": {
        "id": "UkO090uw1zEf"
      }
    },
    {
      "cell_type": "code",
      "source": [
        "nama_siswa_1=\"jielo\"\n",
        "nama_siswa_2=\"aida\"\n",
        "nama_siswa_3=\"dani\"\n",
        "nama_siswa_4=\"nurul\"\n",
        "\n",
        "print(nama_siswa_4, end=\"/\")\n",
        "print(nama_siswa_2, end=\"/\")\n",
        "print(nama_siswa_1, end=\"/\")\n",
        "print(nama_siswa_3)"
      ],
      "metadata": {
        "colab": {
          "base_uri": "https://localhost:8080/"
        },
        "id": "BZ-638eW10hq",
        "outputId": "ce64e2d4-3bb7-4252-c1b5-97435a6ed234"
      },
      "execution_count": null,
      "outputs": [
        {
          "output_type": "stream",
          "name": "stdout",
          "text": [
            "nurul/aida/jielo/dani\n"
          ]
        }
      ]
    },
    {
      "cell_type": "code",
      "source": [
        "nama_siswa_5=\"hasbi\"\n",
        "nama_siswa_6=\"habibi\"\n",
        "nama_siswa_7=\"rendra\"\n",
        "nama_siswa_8=\"naufal\"\n",
        "\n",
        "\n",
        "print(nama_siswa_5, nama_siswa_8, nama_siswa_7, nama_siswa_6, sep=\"*\")"
      ],
      "metadata": {
        "colab": {
          "base_uri": "https://localhost:8080/"
        },
        "id": "N7lijaSA30e1",
        "outputId": "26363af4-0da2-4e2f-88a5-dc8b0456b78f"
      },
      "execution_count": null,
      "outputs": [
        {
          "output_type": "stream",
          "name": "stdout",
          "text": [
            "hasbi*naufal*rendra*habibi\n"
          ]
        }
      ]
    },
    {
      "cell_type": "code",
      "source": [
        "print('bu shinta berkata,\"berikut adalah daftar piket harian kelas x.2 yang disimpan di file D:\\\\MAN Demak\\\\jadwal piket\"\\n\\nsenin\\tselasa\\trabu\\njielo\\thasbi\\tnaufal\\nazam\\taida\\tnurul')"
      ],
      "metadata": {
        "colab": {
          "base_uri": "https://localhost:8080/"
        },
        "id": "EjppprWM7Q2W",
        "outputId": "ce60d82b-5025-4a5a-f17e-e12488e10588"
      },
      "execution_count": null,
      "outputs": [
        {
          "output_type": "stream",
          "name": "stdout",
          "text": [
            "bu shinta berkata,\"berikut adalah daftar piket harian kelas x.2 yang disimpan di file D:\\MAN Demak\\jadwal piket\"\n",
            "\n",
            "senin\tselasa\trabu\n",
            "jielo\thasbi\tnaufal\n",
            "azam\taida\tnurul\n"
          ]
        }
      ]
    }
  ]
}